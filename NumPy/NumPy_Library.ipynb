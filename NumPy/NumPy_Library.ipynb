{
  "nbformat": 4,
  "nbformat_minor": 0,
  "metadata": {
    "colab": {
      "name": "NumPy Library.ipynb",
      "provenance": []
    },
    "kernelspec": {
      "name": "python3",
      "display_name": "Python 3"
    }
  },
  "cells": [
    {
      "cell_type": "markdown",
      "metadata": {
        "id": "A6vSKKMwcCUO"
      },
      "source": [
        "# Numpy\r\n",
        "#### NumPy is the fundamental package for scientific computing in Python. It is a Python library that provides a multidimensional array object, various derived objects (such as masked arrays and matrices), and an assortment of routines for fast operations on arrays, including mathematical, logical, shape manipulation, sorting, selecting, I/O, discrete Fourier transforms, basic linear algebra, basic statistical operations, random simulation and much more."
      ]
    },
    {
      "cell_type": "markdown",
      "metadata": {
        "id": "G_qXYOvycoW0"
      },
      "source": [
        "## Installing and importing Numpy"
      ]
    },
    {
      "cell_type": "code",
      "metadata": {
        "id": "t7rtJtJ4cFrJ"
      },
      "source": [
        "pip install numpy \r\n",
        "import numpy as np\r\n"
      ],
      "execution_count": 3,
      "outputs": []
    },
    {
      "cell_type": "markdown",
      "metadata": {
        "id": "HCtR6Uv0h2WR"
      },
      "source": [
        "## NumPy Array\r\n",
        "\r\n",
        "#### An array is a central data structure of the NumPy library. An array is a grid of values and it contains information about the raw data, how to locate an element, and how to interpret an element. It has a grid of elements that can be indexed in various ways. The elements are all of the same type, referred to as the array dtype."
      ]
    },
    {
      "cell_type": "markdown",
      "metadata": {
        "id": "LatTV7xoiAqd"
      },
      "source": [
        "### Creating *Array*"
      ]
    },
    {
      "cell_type": "code",
      "metadata": {
        "colab": {
          "base_uri": "https://localhost:8080/"
        },
        "id": "sYb-ogRBc1rj",
        "outputId": "1fcc4095-c457-4995-b8f7-291ec009ff52"
      },
      "source": [
        "a = np.array([1,2,3,4]) #One Dimentional\r\n",
        "print(a)\r\n",
        "b = np.array([[1,2,3],[4,5,6]]) #Two Dimentional\r\n",
        "print(b)\r\n",
        "c = np.array([[[0,1,2],[3,4,5]],[[6,7,8],[9,10,11]],[[12,13,14],[15,16,17]]]) #Three Dimentional\r\n",
        "print(c)\r\n"
      ],
      "execution_count": 32,
      "outputs": [
        {
          "output_type": "stream",
          "text": [
            "[1 2 3 4]\n",
            "[[1 2 3]\n",
            " [4 5 6]]\n",
            "[[[ 0  1  2]\n",
            "  [ 3  4  5]]\n",
            "\n",
            " [[ 6  7  8]\n",
            "  [ 9 10 11]]\n",
            "\n",
            " [[12 13 14]\n",
            "  [15 16 17]]]\n"
          ],
          "name": "stdout"
        }
      ]
    },
    {
      "cell_type": "markdown",
      "metadata": {
        "id": "sJ29NMFBi4uN"
      },
      "source": [
        "### Various kinds of array"
      ]
    },
    {
      "cell_type": "code",
      "metadata": {
        "colab": {
          "base_uri": "https://localhost:8080/"
        },
        "id": "gNRTOqSaiGaw",
        "outputId": "8710d488-b67d-47ec-c15a-b1e8e2ffec5a"
      },
      "source": [
        "#array filled with 0’s:\r\n",
        "zeros = np.zeros((4,5))\r\n",
        "print(zeros)\r\n",
        "print(\"--------------------\")\r\n",
        "#array filled with 1’s:\r\n",
        "ones = np.ones((2,3))\r\n",
        "print(ones)\r\n",
        "print(\"--------------------\")\r\n",
        "# an empty array\r\n",
        "empty = np.empty(5)\r\n",
        "print(empty) # # may vary\r\n"
      ],
      "execution_count": 27,
      "outputs": [
        {
          "output_type": "stream",
          "text": [
            "[[0. 0. 0. 0. 0.]\n",
            " [0. 0. 0. 0. 0.]\n",
            " [0. 0. 0. 0. 0.]\n",
            " [0. 0. 0. 0. 0.]]\n",
            "--------------------\n",
            "[[1. 1. 1.]\n",
            " [1. 1. 1.]]\n",
            "--------------------\n",
            "[ 1.    3.25  5.5   7.75 10.  ]\n"
          ],
          "name": "stdout"
        }
      ]
    },
    {
      "cell_type": "code",
      "metadata": {
        "colab": {
          "base_uri": "https://localhost:8080/"
        },
        "id": "3WU7Qim3jPVg",
        "outputId": "2d065146-20d3-48cf-d12e-f1ce31a9c97f"
      },
      "source": [
        "#array with a range of elements:\r\n",
        "range_array1 = np.arange(10)\r\n",
        "print(range_array1)\r\n",
        "print(\"--------------------\")\r\n",
        "range_array2 = np.arange(5,10, dtype=float)\r\n",
        "print(range_array2)\r\n",
        "print(\"--------------------\")\r\n",
        "range_array3 = np.arange(0,20,2)\r\n",
        "print(range_array3)\r\n",
        "print(\"--------------------\")\r\n",
        "\r\n",
        "\r\n",
        "#array with values that are spaced linearly in a specified interval:\r\n",
        "specific_array1 = np.linspace(1,10,5)\r\n",
        "print(specific_array1)\r\n",
        "print(\"--------------------\")\r\n",
        "specific_array2 = np.indices((4,3))\r\n",
        "print(specific_array2)\r\n",
        "print(\"--------------------\")"
      ],
      "execution_count": 23,
      "outputs": [
        {
          "output_type": "stream",
          "text": [
            "[0 1 2 3 4 5 6 7 8 9]\n",
            "--------------------\n",
            "[5. 6. 7. 8. 9.]\n",
            "--------------------\n",
            "[ 0  2  4  6  8 10 12 14 16 18]\n",
            "--------------------\n",
            "[ 1.    3.25  5.5   7.75 10.  ]\n",
            "--------------------\n",
            "[[[0 0 0]\n",
            "  [1 1 1]\n",
            "  [2 2 2]\n",
            "  [3 3 3]]\n",
            "\n",
            " [[0 1 2]\n",
            "  [0 1 2]\n",
            "  [0 1 2]\n",
            "  [0 1 2]]]\n",
            "--------------------\n"
          ],
          "name": "stdout"
        }
      ]
    },
    {
      "cell_type": "markdown",
      "metadata": {
        "id": "LUMc-NPymerS"
      },
      "source": [
        "## Shape & Size of Array"
      ]
    },
    {
      "cell_type": "code",
      "metadata": {
        "id": "NK4gGtpBk6Vx"
      },
      "source": [
        "example1 = np.array([[1,5,7,8],[0,2,8,9]])\r\n",
        "example2 = np.array([0,5,9,4,7])\r\n",
        "example3 = np.array([[[0,1,2],[3,4,5]],[[6,7,8],[9,10,11]],[[12,13,14],[15,16,17]]])\r\n"
      ],
      "execution_count": 36,
      "outputs": []
    },
    {
      "cell_type": "code",
      "metadata": {
        "colab": {
          "base_uri": "https://localhost:8080/"
        },
        "id": "8okbLZ0imzFA",
        "outputId": "feec6bb6-2a25-4680-d5c6-3ea2de36c19b"
      },
      "source": [
        "#number of dimensions of the array\r\n",
        "\r\n",
        "print(example1.ndim)\r\n",
        "print(\"--------\")\r\n",
        "print(example2.ndim)\r\n",
        "print(\"-------\")\r\n",
        "print(example3.ndim)\r\n",
        "print(\"-------\")\r\n"
      ],
      "execution_count": 37,
      "outputs": [
        {
          "output_type": "stream",
          "text": [
            "2\n",
            "--------\n",
            "1\n",
            "-------\n",
            "3\n",
            "-------\n"
          ],
          "name": "stdout"
        }
      ]
    },
    {
      "cell_type": "code",
      "metadata": {
        "colab": {
          "base_uri": "https://localhost:8080/"
        },
        "id": "2kAL7ro4m--H",
        "outputId": "44d5988f-f524-485a-f8c5-a10931042c08"
      },
      "source": [
        "# total number of elements in the array\r\n",
        "\r\n",
        "print(example1.size)\r\n",
        "print(\"--------\")\r\n",
        "print(example2.size)\r\n",
        "print(\"--------\")\r\n",
        "print(example3.size)\r\n"
      ],
      "execution_count": 38,
      "outputs": [
        {
          "output_type": "stream",
          "text": [
            "8\n",
            "--------\n",
            "5\n",
            "--------\n",
            "18\n"
          ],
          "name": "stdout"
        }
      ]
    },
    {
      "cell_type": "code",
      "metadata": {
        "colab": {
          "base_uri": "https://localhost:8080/"
        },
        "id": "eNctnm4YnuI3",
        "outputId": "674afd66-30c8-49ea-87ae-b5bf7f505497"
      },
      "source": [
        "# the shape of your array\r\n",
        "print(example1.shape)\r\n",
        "print(\"--------\")\r\n",
        "print(example2.shape)\r\n",
        "print(\"--------\")\r\n",
        "print(example3.shape)\r\n"
      ],
      "execution_count": 39,
      "outputs": [
        {
          "output_type": "stream",
          "text": [
            "(2, 4)\n",
            "--------\n",
            "(5,)\n",
            "--------\n",
            "(3, 2, 3)\n"
          ],
          "name": "stdout"
        }
      ]
    },
    {
      "cell_type": "markdown",
      "metadata": {
        "id": "n-Q7tgSuoDHj"
      },
      "source": [
        "### Reshaping Array"
      ]
    },
    {
      "cell_type": "code",
      "metadata": {
        "colab": {
          "base_uri": "https://localhost:8080/"
        },
        "id": "ReTCji1wn9nf",
        "outputId": "8b9a76eb-53a2-470e-8e99-a098f61623f0"
      },
      "source": [
        "example1 = np.array([1,2,3,4,5,6,7,8,9,10,11,12])\r\n",
        "print(example1)\r\n",
        "print(\"--------\")\r\n",
        "print(example1.reshape(3,4))\r\n",
        "print(\"--------\")\r\n",
        "print(np.reshape(example1, newshape=(3,4)))\r\n",
        "print(\"--------\")\r\n",
        "print(np.reshape(example1, newshape=(6,2)))\r\n",
        "print(\"--------\")"
      ],
      "execution_count": 45,
      "outputs": [
        {
          "output_type": "stream",
          "text": [
            "[ 1  2  3  4  5  6  7  8  9 10 11 12]\n",
            "--------\n",
            "[[ 1  2  3  4]\n",
            " [ 5  6  7  8]\n",
            " [ 9 10 11 12]]\n",
            "--------\n",
            "[[ 1  2  3  4]\n",
            " [ 5  6  7  8]\n",
            " [ 9 10 11 12]]\n",
            "--------\n",
            "[[ 1  2]\n",
            " [ 3  4]\n",
            " [ 5  6]\n",
            " [ 7  8]\n",
            " [ 9 10]\n",
            " [11 12]]\n",
            "--------\n"
          ],
          "name": "stdout"
        }
      ]
    },
    {
      "cell_type": "markdown",
      "metadata": {
        "id": "ruPjs5GwsLlb"
      },
      "source": [
        "### Convert a 1D array into a 2D array"
      ]
    },
    {
      "cell_type": "code",
      "metadata": {
        "colab": {
          "base_uri": "https://localhost:8080/"
        },
        "id": "hNLpfeLwsQrp",
        "outputId": "82fa2bd8-8a23-4f87-864f-dbaef2487849"
      },
      "source": [
        "example1 = np.array([1,2,3,4,5,6,7,8,9,10])\r\n",
        "print(example1)\r\n",
        "print(example1.shape)"
      ],
      "execution_count": 73,
      "outputs": [
        {
          "output_type": "stream",
          "text": [
            "[ 1  2  3  4  5  6  7  8  9 10]\n",
            "(10,)\n"
          ],
          "name": "stdout"
        }
      ]
    },
    {
      "cell_type": "code",
      "metadata": {
        "colab": {
          "base_uri": "https://localhost:8080/"
        },
        "id": "b-Ij5ZrIsnfn",
        "outputId": "a30702e7-9763-453f-8317-3fc74a261547"
      },
      "source": [
        "#use np.newaxis to add a new axis:\r\n",
        "result1 = example1[np.newaxis, :]\r\n",
        "print(result1)\r\n",
        "print(\"-------\")\r\n",
        "print(result1.shape)\r\n",
        "print(\"-------\")\r\n",
        "result2 = example1[: , np.newaxis]\r\n",
        "print(result2)\r\n",
        "print(\"-------\")\r\n",
        "print(result2.shape)\r\n",
        "result3 = example1[2:5 , np.newaxis]\r\n",
        "print(result3)\r\n",
        "print(\"-------\")\r\n",
        "print(result3.shape)\r\n"
      ],
      "execution_count": 76,
      "outputs": [
        {
          "output_type": "stream",
          "text": [
            "[[ 1  2  3  4  5  6  7  8  9 10]]\n",
            "-------\n",
            "(1, 10)\n",
            "-------\n",
            "[[ 1]\n",
            " [ 2]\n",
            " [ 3]\n",
            " [ 4]\n",
            " [ 5]\n",
            " [ 6]\n",
            " [ 7]\n",
            " [ 8]\n",
            " [ 9]\n",
            " [10]]\n",
            "-------\n",
            "(10, 1)\n",
            "[[3]\n",
            " [4]\n",
            " [5]]\n",
            "-------\n",
            "(3, 1)\n"
          ],
          "name": "stdout"
        }
      ]
    },
    {
      "cell_type": "code",
      "metadata": {
        "colab": {
          "base_uri": "https://localhost:8080/"
        },
        "id": "FODN_aj3tlg4",
        "outputId": "849184b2-0d0e-4542-c9a2-df9e027cf749"
      },
      "source": [
        "#use np.expand_dims to add an axis at index position 1 or 2:\r\n",
        "\r\n",
        "result1 = np.expand_dims(example1, axis=0)\r\n",
        "print(result1)\r\n",
        "print(\"------\")\r\n",
        "print(result1.shape)\r\n",
        "print(\"-----\")\r\n",
        "result2 = np.expand_dims(example1, axis=1)\r\n",
        "print(result2)\r\n",
        "print(\"------\")\r\n",
        "print(result2.shape)"
      ],
      "execution_count": 78,
      "outputs": [
        {
          "output_type": "stream",
          "text": [
            "[[ 1  2  3  4  5  6  7  8  9 10]]\n",
            "------\n",
            "(1, 10)\n",
            "-----\n",
            "[[ 1]\n",
            " [ 2]\n",
            " [ 3]\n",
            " [ 4]\n",
            " [ 5]\n",
            " [ 6]\n",
            " [ 7]\n",
            " [ 8]\n",
            " [ 9]\n",
            " [10]]\n",
            "------\n",
            "(10, 1)\n"
          ],
          "name": "stdout"
        }
      ]
    },
    {
      "cell_type": "markdown",
      "metadata": {
        "id": "csGmWd0lpmmO"
      },
      "source": [
        "## Sorting and Concatenate elements"
      ]
    },
    {
      "cell_type": "markdown",
      "metadata": {
        "id": "ojvMfN5VrMvx"
      },
      "source": [
        "### Sorting"
      ]
    },
    {
      "cell_type": "code",
      "metadata": {
        "colab": {
          "base_uri": "https://localhost:8080/"
        },
        "id": "VpYGP_rhoR43",
        "outputId": "990b8d6e-2809-4210-ffa9-59f7cbf227a9"
      },
      "source": [
        "example1 = np.array([10,25,45,11,2,99,45,12,34])\r\n",
        "print(example1)\r\n",
        "print(\"--------\")\r\n",
        "example2 = np.array([[1,5,7,8],[0,2,8,9]])\r\n",
        "print(example2)\r\n",
        "print(\"--------\")\r\n",
        "example3 = np.array([[[0,1,2],[3,4,5],[9,8,7]],[[6,7,8],[9,10,11],[4,6,5]],[[12,13,14],[15,16,17],[1,5,9]]])\r\n",
        "print(example3)"
      ],
      "execution_count": 51,
      "outputs": [
        {
          "output_type": "stream",
          "text": [
            "[10 25 45 11  2 99 45 12 34]\n",
            "--------\n",
            "[[1 5 7 8]\n",
            " [0 2 8 9]]\n",
            "--------\n",
            "[[[ 0  1  2]\n",
            "  [ 3  4  5]\n",
            "  [ 9  8  7]]\n",
            "\n",
            " [[ 6  7  8]\n",
            "  [ 9 10 11]\n",
            "  [ 4  6  5]]\n",
            "\n",
            " [[12 13 14]\n",
            "  [15 16 17]\n",
            "  [ 1  5  9]]]\n"
          ],
          "name": "stdout"
        }
      ]
    },
    {
      "cell_type": "code",
      "metadata": {
        "colab": {
          "base_uri": "https://localhost:8080/"
        },
        "id": "zxVavYDGpydn",
        "outputId": "bf505955-21f0-4168-ddb5-3b9f2e4c3274"
      },
      "source": [
        "#sort the numbers in ascending order\r\n",
        "print(np.sort(example1))\r\n",
        "print(\"--------\")\r\n",
        "print(np.sort(example3, axis= 2))"
      ],
      "execution_count": 60,
      "outputs": [
        {
          "output_type": "stream",
          "text": [
            "[ 2 10 11 12 25 34 45 45 99]\n",
            "--------\n",
            "[[[ 0  1  2]\n",
            "  [ 3  4  5]\n",
            "  [ 7  8  9]]\n",
            "\n",
            " [[ 6  7  8]\n",
            "  [ 9 10 11]\n",
            "  [ 4  5  6]]\n",
            "\n",
            " [[12 13 14]\n",
            "  [15 16 17]\n",
            "  [ 1  5  9]]]\n"
          ],
          "name": "stdout"
        }
      ]
    },
    {
      "cell_type": "markdown",
      "metadata": {
        "id": "tNood-owrOjB"
      },
      "source": [
        "### Concatenate"
      ]
    },
    {
      "cell_type": "code",
      "metadata": {
        "id": "w-Hh_9swrVqX"
      },
      "source": [
        "example1 = np.array([1, 2, 3, 4])\r\n",
        "example2 = np.array([5, 6, 7, 8])"
      ],
      "execution_count": 63,
      "outputs": []
    },
    {
      "cell_type": "code",
      "metadata": {
        "colab": {
          "base_uri": "https://localhost:8080/"
        },
        "id": "QxyjH_Tprc7e",
        "outputId": "4c1b47cc-ca85-44c0-a226-5cf0c1d8cea3"
      },
      "source": [
        "np.concatenate((example1,example2))"
      ],
      "execution_count": 65,
      "outputs": [
        {
          "output_type": "execute_result",
          "data": {
            "text/plain": [
              "array([1, 2, 3, 4, 5, 6, 7, 8])"
            ]
          },
          "metadata": {
            "tags": []
          },
          "execution_count": 65
        }
      ]
    },
    {
      "cell_type": "code",
      "metadata": {
        "id": "zBbF5jUarsvu"
      },
      "source": [
        "example3 = np.array([[1, 2], [3, 4]])\r\n",
        "example4 = np.array([[5, 6]])"
      ],
      "execution_count": 66,
      "outputs": []
    },
    {
      "cell_type": "code",
      "metadata": {
        "colab": {
          "base_uri": "https://localhost:8080/"
        },
        "id": "IEtdBz0tr2P4",
        "outputId": "d563b52e-5739-40b6-d7e5-8ece4af8cb5b"
      },
      "source": [
        "np.concatenate((example3,example4), axis = 0)"
      ],
      "execution_count": 69,
      "outputs": [
        {
          "output_type": "execute_result",
          "data": {
            "text/plain": [
              "array([[1, 2],\n",
              "       [3, 4],\n",
              "       [5, 6]])"
            ]
          },
          "metadata": {
            "tags": []
          },
          "execution_count": 69
        }
      ]
    },
    {
      "cell_type": "markdown",
      "metadata": {
        "id": "VtKNzycsuIT3"
      },
      "source": [
        "## Indexing and slicing"
      ]
    },
    {
      "cell_type": "code",
      "metadata": {
        "colab": {
          "base_uri": "https://localhost:8080/"
        },
        "id": "kXGgNUo_r4Te",
        "outputId": "889c9289-322b-4015-d34b-518ac9a8da7b"
      },
      "source": [
        "example1 = np.array([10,25,45,11,2,99,45,12,34])\r\n",
        "print(example1)\r\n",
        "print(\"--------\")\r\n",
        "example2 = np.array([[1,5,7,8],[0,2,8,9]])\r\n",
        "print(example2)\r\n",
        "print(\"--------\")\r\n",
        "example3 = np.array([[[0,1,2],[3,4,5],[9,8,7]],[[6,7,8],[9,10,11],[4,6,5]],[[12,13,14],[15,16,17],[1,5,9]]])\r\n",
        "print(example3)"
      ],
      "execution_count": 79,
      "outputs": [
        {
          "output_type": "stream",
          "text": [
            "[10 25 45 11  2 99 45 12 34]\n",
            "--------\n",
            "[[1 5 7 8]\n",
            " [0 2 8 9]]\n",
            "--------\n",
            "[[[ 0  1  2]\n",
            "  [ 3  4  5]\n",
            "  [ 9  8  7]]\n",
            "\n",
            " [[ 6  7  8]\n",
            "  [ 9 10 11]\n",
            "  [ 4  6  5]]\n",
            "\n",
            " [[12 13 14]\n",
            "  [15 16 17]\n",
            "  [ 1  5  9]]]\n"
          ],
          "name": "stdout"
        }
      ]
    },
    {
      "cell_type": "code",
      "metadata": {
        "colab": {
          "base_uri": "https://localhost:8080/"
        },
        "id": "OZXDuCVTxxA_",
        "outputId": "43a7ab86-be74-48c7-9acd-4efee418d73f"
      },
      "source": [
        "#For one dimention\r\n",
        "print(example1[4])\r\n",
        "print(\"--------\")\r\n",
        "print(example1[-4])\r\n",
        "print(\"--------\")\r\n",
        "print(example1[2:8])\r\n",
        "print(\"--------\")\r\n",
        "print(example1[-4:])\r\n",
        "print(\"--------\")"
      ],
      "execution_count": 83,
      "outputs": [
        {
          "output_type": "stream",
          "text": [
            "2\n",
            "--------\n",
            "99\n",
            "--------\n",
            "[45 11  2 99 45 12]\n",
            "--------\n",
            "[99 45 12 34]\n",
            "--------\n"
          ],
          "name": "stdout"
        }
      ]
    },
    {
      "cell_type": "code",
      "metadata": {
        "colab": {
          "base_uri": "https://localhost:8080/"
        },
        "id": "sj218lnxx1_d",
        "outputId": "0d822a5a-f688-416f-ada7-0ddfeac2c442"
      },
      "source": [
        "#For multiple dimention (Row,Column)\r\n",
        "print(example2[1])\r\n",
        "print(\"--------\")\r\n",
        "print(example2[1,2])\r\n",
        "print(\"--------\")\r\n",
        "print(example3[1,2])\r\n",
        "print(\"--------\")\r\n",
        "print(example3[1,2,1])\r\n",
        "print(\"--------\")\r\n"
      ],
      "execution_count": 92,
      "outputs": [
        {
          "output_type": "stream",
          "text": [
            "[0 2 8 9]\n",
            "--------\n",
            "8\n",
            "--------\n",
            "[4 6 5]\n",
            "--------\n",
            "6\n",
            "--------\n"
          ],
          "name": "stdout"
        }
      ]
    },
    {
      "cell_type": "markdown",
      "metadata": {
        "id": "AGk-L6x5z3Oj"
      },
      "source": [
        "### Select elements from array that fulfill certain conditions"
      ]
    },
    {
      "cell_type": "code",
      "metadata": {
        "colab": {
          "base_uri": "https://localhost:8080/"
        },
        "id": "7rJl75KTyQCV",
        "outputId": "eceab2ee-6daf-4f16-f100-75a16989b141"
      },
      "source": [
        "a = np.array([[1 , 2, 3, 4], [5, 6, 7, 8], [9, 10, 11, 12]])\r\n",
        "print(a)"
      ],
      "execution_count": 94,
      "outputs": [
        {
          "output_type": "stream",
          "text": [
            "[[ 1  2  3  4]\n",
            " [ 5  6  7  8]\n",
            " [ 9 10 11 12]]\n"
          ],
          "name": "stdout"
        }
      ]
    },
    {
      "cell_type": "code",
      "metadata": {
        "colab": {
          "base_uri": "https://localhost:8080/"
        },
        "id": "Ykqmtwz-z-el",
        "outputId": "0346ed87-828d-4e13-b42e-40b1e0fdb2ab"
      },
      "source": [
        "#values in the array that are less than 5\r\n",
        "print(a[a < 5])\r\n"
      ],
      "execution_count": 96,
      "outputs": [
        {
          "output_type": "stream",
          "text": [
            "[1 2 3 4]\n"
          ],
          "name": "stdout"
        }
      ]
    },
    {
      "cell_type": "code",
      "metadata": {
        "colab": {
          "base_uri": "https://localhost:8080/"
        },
        "id": "xF0LyFom0EPU",
        "outputId": "5b28a96c-1a61-4a6e-ce06-938314fa1e1e"
      },
      "source": [
        "#numbers that are equal to or greater than 5\r\n",
        "print(a[a>=5])"
      ],
      "execution_count": 97,
      "outputs": [
        {
          "output_type": "stream",
          "text": [
            "[ 5  6  7  8  9 10 11 12]\n"
          ],
          "name": "stdout"
        }
      ]
    },
    {
      "cell_type": "code",
      "metadata": {
        "colab": {
          "base_uri": "https://localhost:8080/"
        },
        "id": "oS_2pikn0OHM",
        "outputId": "22041957-a467-4333-ba94-4c08a7077f49"
      },
      "source": [
        "#select elements that are divisible by 2:\r\n",
        "print(a[a%2==0])"
      ],
      "execution_count": 98,
      "outputs": [
        {
          "output_type": "stream",
          "text": [
            "[ 2  4  6  8 10 12]\n"
          ],
          "name": "stdout"
        }
      ]
    },
    {
      "cell_type": "code",
      "metadata": {
        "colab": {
          "base_uri": "https://localhost:8080/"
        },
        "id": "DfIBJPNh0TWl",
        "outputId": "fe22fad8-0cc8-422a-ffe8-7b76076a0e1f"
      },
      "source": [
        "#select elements that satisfy two conditions using the & and | operators:\r\n",
        "print(a[(a > 2) & (a < 11)])"
      ],
      "execution_count": 100,
      "outputs": [
        {
          "output_type": "stream",
          "text": [
            "[ 3  4  5  6  7  8  9 10]\n"
          ],
          "name": "stdout"
        }
      ]
    },
    {
      "cell_type": "code",
      "metadata": {
        "colab": {
          "base_uri": "https://localhost:8080/"
        },
        "id": "-qHSkdGz0V20",
        "outputId": "c8268b9e-f30d-4495-b476-cac2a33db12b"
      },
      "source": [
        "#use of the logical operators & and | in order to return boolean values:\r\n",
        "print((a > 5) | (a == 5))"
      ],
      "execution_count": 101,
      "outputs": [
        {
          "output_type": "stream",
          "text": [
            "[[False False False False]\n",
            " [ True  True  True  True]\n",
            " [ True  True  True  True]]\n"
          ],
          "name": "stdout"
        }
      ]
    },
    {
      "cell_type": "code",
      "metadata": {
        "id": "a7TFXbpA0ioU"
      },
      "source": [
        ""
      ],
      "execution_count": null,
      "outputs": []
    }
  ]
}